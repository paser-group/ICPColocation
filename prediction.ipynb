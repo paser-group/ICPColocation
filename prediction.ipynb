{
 "cells": [
  {
   "cell_type": "code",
   "execution_count": 1,
   "metadata": {},
   "outputs": [],
   "source": [
    "#Todo: tesing on different files"
   ]
  },
  {
   "cell_type": "code",
   "execution_count": 1,
   "metadata": {},
   "outputs": [],
   "source": [
    "import pandas as pd\n",
    "import numpy as np\n",
    "from sklearn.model_selection import KFold, cross_val_score\n",
    "from sklearn.preprocessing import StandardScaler\n",
    "from sklearn.decomposition import PCA\n",
    "from sklearn import svm, tree\n",
    "from sklearn.neighbors import KNeighborsClassifier\n",
    "from sklearn.ensemble import RandomForestClassifier\n",
    "from sklearn.naive_bayes import GaussianNB\n",
    "from sklearn.metrics import classification_report, precision_score, recall_score, f1_score"
   ]
  },
  {
   "cell_type": "code",
   "execution_count": 2,
   "metadata": {},
   "outputs": [],
   "source": [
    "def read_csv_file (filename):\n",
    "    df = pd.read_csv(filename)  # read the csv file\n",
    "    return df"
   ]
  },
  {
   "cell_type": "code",
   "execution_count": 3,
   "metadata": {},
   "outputs": [],
   "source": [
    "def convert_label_to_numeric(label):\n",
    "    converted_label = np.empty(len(label), dtype=object) \n",
    "    for i in range(len(label)):\n",
    "        if label[i] == \"ONLY_ONE\":\n",
    "            converted_label[i] = 1\n",
    "        elif label[i] == \"NEUTRAL\":\n",
    "            converted_label[i] = 0\n",
    "        else: \n",
    "            converted_label[i] = 2\n",
    "    converted_label = converted_label.astype('int')\n",
    "    return converted_label"
   ]
  },
  {
   "cell_type": "code",
   "execution_count": 4,
   "metadata": {},
   "outputs": [],
   "source": [
    "def apply_PCA(train, test):\n",
    "    # Since PCA is effected by scale, we need to scale the features in the data before applying PCA\n",
    "    scaler = StandardScaler()\n",
    "    # Fit on training set only.\n",
    "    scaler.fit(train)\n",
    "    # Apply transform to both the training set and the test set.\n",
    "    train = scaler.transform(train)\n",
    "    test = scaler.transform(test)\n",
    "\n",
    "    # Make an instance of the Model\n",
    "    pca = PCA(.95) #  choose the minimum number of principal components such that 95% of the variance is retained.\n",
    "    # We are fitting PCA on the training set only.\n",
    "    pca.fit(train)\n",
    "    print (\"Number of selected components: \", pca.n_components_)\n",
    "    #print (pd.DataFrame(pca.components_))\n",
    "    \n",
    "    # Apply the mapping (transform) to both the training set and the test set\n",
    "    print(\"Before applying PCA train set size: \", train.shape)\n",
    "    print(\"Before applying PCA test set size: \", test.shape)\n",
    "    train = pca.transform(train)\n",
    "    test = pca.transform(test)\n",
    "    print(\"After applying PCA train set size: \", train.shape)\n",
    "    print(\"After applying PCA test set size: \", test.shape)\n",
    "    return train,test"
   ]
  },
  {
   "cell_type": "code",
   "execution_count": 5,
   "metadata": {},
   "outputs": [],
   "source": [
    "def measure_performance(true_label, predicted_label):   \n",
    "    report = classification_report(true_label, predicted_label, digits=3)\n",
    "    recall = recall_score(true_label, predicted_label, average=\"macro\")\n",
    "    precision = precision_score(true_label, predicted_label, average=\"macro\")\n",
    "    f1 = f1_score(true_label, predicted_label, average=\"macro\")\n",
    "    return recall, precision, f1"
   ]
  },
  {
   "cell_type": "code",
   "execution_count": 210,
   "metadata": {},
   "outputs": [
    {
     "name": "stdout",
     "output_type": "stream",
     "text": [
      "Initial data shape:  (1613, 16)\n"
     ]
    }
   ],
   "source": [
    "data = pd.read_csv('..//updated_data//RAW_DATASETS//COLOCATED_MOZILLA.csv') \n",
    "print(\"Initial data shape: \", data.shape)\n",
    "true_label = data['COLOCATED_STATUS']\n",
    "true_label = convert_label_to_numeric(true_label)\n",
    "data = data.drop(columns=['FILE_PATH', 'ICP_STATUS', 'COLOCATED_STATUS', 'SAME_DIFF_STATUS'])"
   ]
  },
  {
   "cell_type": "code",
   "execution_count": 211,
   "metadata": {},
   "outputs": [
    {
     "name": "stdout",
     "output_type": "stream",
     "text": [
      "Number of selected components:  8\n",
      "Before applying PCA train set size:  (1451, 12)\n",
      "Before applying PCA test set size:  (162, 12)\n",
      "After applying PCA train set size:  (1451, 8)\n",
      "After applying PCA test set size:  (162, 8)\n",
      "Number of selected components:  8\n",
      "Before applying PCA train set size:  (1451, 12)\n",
      "Before applying PCA test set size:  (162, 12)\n",
      "After applying PCA train set size:  (1451, 8)\n",
      "After applying PCA test set size:  (162, 8)\n",
      "Number of selected components:  8\n",
      "Before applying PCA train set size:  (1451, 12)\n",
      "Before applying PCA test set size:  (162, 12)\n",
      "After applying PCA train set size:  (1451, 8)\n",
      "After applying PCA test set size:  (162, 8)\n",
      "Number of selected components:  8\n",
      "Before applying PCA train set size:  (1452, 12)\n",
      "Before applying PCA test set size:  (161, 12)\n",
      "After applying PCA train set size:  (1452, 8)\n",
      "After applying PCA test set size:  (161, 8)\n",
      "Number of selected components:  8\n",
      "Before applying PCA train set size:  (1452, 12)\n",
      "Before applying PCA test set size:  (161, 12)\n",
      "After applying PCA train set size:  (1452, 8)\n",
      "After applying PCA test set size:  (161, 8)\n",
      "Number of selected components:  8\n",
      "Before applying PCA train set size:  (1452, 12)\n",
      "Before applying PCA test set size:  (161, 12)\n",
      "After applying PCA train set size:  (1452, 8)\n",
      "After applying PCA test set size:  (161, 8)\n",
      "Number of selected components:  8\n",
      "Before applying PCA train set size:  (1452, 12)\n",
      "Before applying PCA test set size:  (161, 12)\n",
      "After applying PCA train set size:  (1452, 8)\n",
      "After applying PCA test set size:  (161, 8)\n",
      "Number of selected components:  8\n",
      "Before applying PCA train set size:  (1452, 12)\n",
      "Before applying PCA test set size:  (161, 12)\n",
      "After applying PCA train set size:  (1452, 8)\n",
      "After applying PCA test set size:  (161, 8)\n",
      "Number of selected components:  8\n",
      "Before applying PCA train set size:  (1452, 12)\n",
      "Before applying PCA test set size:  (161, 12)\n",
      "After applying PCA train set size:  (1452, 8)\n",
      "After applying PCA test set size:  (161, 8)\n",
      "Number of selected components:  8\n",
      "Before applying PCA train set size:  (1452, 12)\n",
      "Before applying PCA test set size:  (161, 12)\n",
      "After applying PCA train set size:  (1452, 8)\n",
      "After applying PCA test set size:  (161, 8)\n"
     ]
    }
   ],
   "source": [
    "# 10 fold cv\n",
    "kf = KFold(n_splits=10, shuffle = True, random_state = 7)\n",
    "\n",
    "cv_recall_DT = []\n",
    "cv_precision_DT = []\n",
    "cv_f1_DT = []\n",
    "\n",
    "cv_recall_KNN = []\n",
    "cv_precision_KNN = []\n",
    "cv_f1_KNN = []\n",
    "\n",
    "cv_recall_SVM = []\n",
    "cv_precision_SVM = []\n",
    "cv_f1_SVM = []\n",
    "\n",
    "cv_recall_NB = []\n",
    "cv_precision_NB = []\n",
    "cv_f1_NB = []\n",
    "\n",
    "cv_recall_RF = []\n",
    "cv_precision_RF = []\n",
    "cv_f1_RF = []\n",
    "\n",
    "\n",
    "for train_index, test_index in kf.split(data):\n",
    "    train, test = data.loc[train_index], data.loc[test_index]\n",
    "    train_label, test_label = true_label[train_index], true_label[test_index]\n",
    "\n",
    "    train, test = apply_PCA(train, test)\n",
    "    \n",
    "    clf = tree.DecisionTreeClassifier(criterion='entropy', splitter='best', max_depth=40, \n",
    "                                      min_samples_split = 2, min_weight_fraction_leaf=0.0)\n",
    "    clf.fit(train, train_label)\n",
    "    predicted_label = clf.predict(test)\n",
    "    recall, precision, f1 = measure_performance(test_label, predicted_label)\n",
    "    cv_recall_DT.append(recall)\n",
    "    cv_precision_DT.append(precision)\n",
    "    cv_f1_DT.append(f1)\n",
    "    \n",
    "    clf = KNeighborsClassifier(n_neighbors=5, weights='distance')\n",
    "    clf.fit(train, train_label)\n",
    "    predicted_label = clf.predict(test)\n",
    "    recall, precision, f1 = measure_performance(test_label, predicted_label)\n",
    "    cv_recall_KNN.append(recall)\n",
    "    cv_precision_KNN.append(precision)\n",
    "    cv_f1_KNN.append(f1)\n",
    "    \n",
    "    clf = svm.SVC(gamma='auto', C = 20.0, kernel='rbf', class_weight = {0:1, 1:1, 2:5})\n",
    "    clf.fit(train, train_label)\n",
    "    predicted_label = clf.predict(test)\n",
    "    recall, precision, f1 = measure_performance(test_label, predicted_label)\n",
    "    cv_recall_SVM.append(recall)\n",
    "    cv_precision_SVM.append(precision)\n",
    "    cv_f1_SVM.append(f1)\n",
    "\n",
    "    clf = GaussianNB()\n",
    "    clf.fit(train, train_label)\n",
    "    predicted_label = clf.predict(test)\n",
    "    recall, precision, f1 = measure_performance(test_label, predicted_label)\n",
    "    cv_recall_NB.append(recall)\n",
    "    cv_precision_NB.append(precision)\n",
    "    cv_f1_NB.append(f1)\n",
    "\n",
    "    clf = RandomForestClassifier(n_estimators=10, criterion='gini', max_depth=20)\n",
    "    clf.fit(train, train_label)\n",
    "    predicted_label = clf.predict(test)\n",
    "    recall, precision, f1 = measure_performance(test_label, predicted_label)\n",
    "    cv_recall_RF.append(recall)\n",
    "    cv_precision_RF.append(precision)\n",
    "    cv_f1_RF.append(f1)\n"
   ]
  },
  {
   "cell_type": "code",
   "execution_count": 212,
   "metadata": {},
   "outputs": [
    {
     "name": "stdout",
     "output_type": "stream",
     "text": [
      "-------DT-------\n",
      "Recall: 0.8891930396646123\n",
      "Precision: 0.8705628268102629\n",
      "f1 score: 0.8728325640475477\n",
      "-------KNN-------\n",
      "Recall: 0.8996578000728326\n",
      "Precision: 0.9078891938789528\n",
      "f1 score: 0.9009914677819351\n",
      "-------SVM-------\n",
      "Recall: 0.6927078668314843\n",
      "Precision: 0.7713794250479379\n",
      "f1 score: 0.7034100740450092\n",
      "-------NB-------\n",
      "Recall: 0.4417971611795387\n",
      "Precision: 0.4819069337609035\n",
      "f1 score: 0.4465596739043945\n",
      "-------RF-------\n",
      "Recall: 0.8209246455101968\n",
      "Precision: 0.8949234946233725\n",
      "f1 score: 0.8480177324228416\n"
     ]
    }
   ],
   "source": [
    "print(\"-------DT-------\")\n",
    "print(\"Recall:\", np.mean(cv_recall_DT))\n",
    "print(\"Precision:\", np.mean(cv_precision_DT))\n",
    "print(\"f1 score:\", np.mean(cv_f1_DT))\n",
    "\n",
    "print(\"-------KNN-------\")\n",
    "print(\"Recall:\", np.mean(cv_recall_KNN))\n",
    "print(\"Precision:\", np.mean(cv_precision_KNN))\n",
    "print(\"f1 score:\", np.mean(cv_f1_KNN))\n",
    "\n",
    "print(\"-------SVM-------\")\n",
    "print(\"Recall:\", np.mean(cv_recall_SVM))\n",
    "print(\"Precision:\", np.mean(cv_precision_SVM))\n",
    "print(\"f1 score:\", np.mean(cv_f1_SVM))\n",
    "\n",
    "print(\"-------NB-------\")\n",
    "print(\"Recall:\", np.mean(cv_recall_NB))\n",
    "print(\"Precision:\", np.mean(cv_precision_NB))\n",
    "print(\"f1 score:\", np.mean(cv_f1_NB))\n",
    "\n",
    "print(\"-------RF-------\")\n",
    "print(\"Recall:\", np.mean(cv_recall_RF))\n",
    "print(\"Precision:\", np.mean(cv_precision_RF))\n",
    "print(\"f1 score:\", np.mean(cv_f1_RF))"
   ]
  },
  {
   "cell_type": "code",
   "execution_count": null,
   "metadata": {},
   "outputs": [],
   "source": []
  },
  {
   "cell_type": "code",
   "execution_count": null,
   "metadata": {},
   "outputs": [],
   "source": []
  },
  {
   "cell_type": "code",
   "execution_count": null,
   "metadata": {},
   "outputs": [],
   "source": []
  }
 ],
 "metadata": {
  "kernelspec": {
   "display_name": "Python 3",
   "language": "python",
   "name": "python3"
  },
  "language_info": {
   "codemirror_mode": {
    "name": "ipython",
    "version": 3
   },
   "file_extension": ".py",
   "mimetype": "text/x-python",
   "name": "python",
   "nbconvert_exporter": "python",
   "pygments_lexer": "ipython3",
   "version": "3.6.10"
  }
 },
 "nbformat": 4,
 "nbformat_minor": 4
}
